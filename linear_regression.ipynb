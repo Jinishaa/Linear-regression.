{
  "cells": [
    {
      "cell_type": "markdown",
      "metadata": {
        "id": "view-in-github",
        "colab_type": "text"
      },
      "source": [
        "<a href=\"https://colab.research.google.com/github/Jinishaa/Linear-regression./blob/main/linear_regression.ipynb\" target=\"_parent\"><img src=\"https://colab.research.google.com/assets/colab-badge.svg\" alt=\"Open In Colab\"/></a>"
      ]
    },
    {
      "cell_type": "markdown",
      "id": "cd441ae7-84a3-4b30-a094-10ae16e05269",
      "metadata": {
        "id": "cd441ae7-84a3-4b30-a094-10ae16e05269"
      },
      "source": [
        "## Importing required libraries"
      ]
    },
    {
      "cell_type": "code",
      "execution_count": 1,
      "id": "fb7a90af-db54-4c91-b519-5abe7c5f3012",
      "metadata": {
        "id": "fb7a90af-db54-4c91-b519-5abe7c5f3012"
      },
      "outputs": [],
      "source": [
        "import numpy as np\n",
        "import pandas as pd\n",
        "from sklearn.linear_model import LinearRegression\n",
        "from sklearn.model_selection import train_test_split\n",
        "from sklearn.metrics import mean_absolute_error, mean_squared_error, r2_score\n",
        "import matplotlib.pyplot as plt"
      ]
    },
    {
      "cell_type": "markdown",
      "id": "de0a3031-84f4-4a0a-972a-714229e38af0",
      "metadata": {
        "id": "de0a3031-84f4-4a0a-972a-714229e38af0"
      },
      "source": [
        "## Importing the dataset"
      ]
    },
    {
      "cell_type": "code",
      "execution_count": 2,
      "id": "826c0ec4-30e1-4474-852a-141f85dbb872",
      "metadata": {
        "colab": {
          "base_uri": "https://localhost:8080/",
          "height": 206
        },
        "id": "826c0ec4-30e1-4474-852a-141f85dbb872",
        "outputId": "132b8849-9622-443d-9414-7156609a97f9"
      },
      "outputs": [
        {
          "output_type": "execute_result",
          "data": {
            "text/plain": [
              "   Hours  Scores\n",
              "0    2.5      21\n",
              "1    5.1      47\n",
              "2    3.2      27\n",
              "3    8.5      75\n",
              "4    3.5      30"
            ],
            "text/html": [
              "\n",
              "  <div id=\"df-05d4fd46-9582-4c01-b985-9baeef570d2d\">\n",
              "    <div class=\"colab-df-container\">\n",
              "      <div>\n",
              "<style scoped>\n",
              "    .dataframe tbody tr th:only-of-type {\n",
              "        vertical-align: middle;\n",
              "    }\n",
              "\n",
              "    .dataframe tbody tr th {\n",
              "        vertical-align: top;\n",
              "    }\n",
              "\n",
              "    .dataframe thead th {\n",
              "        text-align: right;\n",
              "    }\n",
              "</style>\n",
              "<table border=\"1\" class=\"dataframe\">\n",
              "  <thead>\n",
              "    <tr style=\"text-align: right;\">\n",
              "      <th></th>\n",
              "      <th>Hours</th>\n",
              "      <th>Scores</th>\n",
              "    </tr>\n",
              "  </thead>\n",
              "  <tbody>\n",
              "    <tr>\n",
              "      <th>0</th>\n",
              "      <td>2.5</td>\n",
              "      <td>21</td>\n",
              "    </tr>\n",
              "    <tr>\n",
              "      <th>1</th>\n",
              "      <td>5.1</td>\n",
              "      <td>47</td>\n",
              "    </tr>\n",
              "    <tr>\n",
              "      <th>2</th>\n",
              "      <td>3.2</td>\n",
              "      <td>27</td>\n",
              "    </tr>\n",
              "    <tr>\n",
              "      <th>3</th>\n",
              "      <td>8.5</td>\n",
              "      <td>75</td>\n",
              "    </tr>\n",
              "    <tr>\n",
              "      <th>4</th>\n",
              "      <td>3.5</td>\n",
              "      <td>30</td>\n",
              "    </tr>\n",
              "  </tbody>\n",
              "</table>\n",
              "</div>\n",
              "      <button class=\"colab-df-convert\" onclick=\"convertToInteractive('df-05d4fd46-9582-4c01-b985-9baeef570d2d')\"\n",
              "              title=\"Convert this dataframe to an interactive table.\"\n",
              "              style=\"display:none;\">\n",
              "        \n",
              "  <svg xmlns=\"http://www.w3.org/2000/svg\" height=\"24px\"viewBox=\"0 0 24 24\"\n",
              "       width=\"24px\">\n",
              "    <path d=\"M0 0h24v24H0V0z\" fill=\"none\"/>\n",
              "    <path d=\"M18.56 5.44l.94 2.06.94-2.06 2.06-.94-2.06-.94-.94-2.06-.94 2.06-2.06.94zm-11 1L8.5 8.5l.94-2.06 2.06-.94-2.06-.94L8.5 2.5l-.94 2.06-2.06.94zm10 10l.94 2.06.94-2.06 2.06-.94-2.06-.94-.94-2.06-.94 2.06-2.06.94z\"/><path d=\"M17.41 7.96l-1.37-1.37c-.4-.4-.92-.59-1.43-.59-.52 0-1.04.2-1.43.59L10.3 9.45l-7.72 7.72c-.78.78-.78 2.05 0 2.83L4 21.41c.39.39.9.59 1.41.59.51 0 1.02-.2 1.41-.59l7.78-7.78 2.81-2.81c.8-.78.8-2.07 0-2.86zM5.41 20L4 18.59l7.72-7.72 1.47 1.35L5.41 20z\"/>\n",
              "  </svg>\n",
              "      </button>\n",
              "      \n",
              "  <style>\n",
              "    .colab-df-container {\n",
              "      display:flex;\n",
              "      flex-wrap:wrap;\n",
              "      gap: 12px;\n",
              "    }\n",
              "\n",
              "    .colab-df-convert {\n",
              "      background-color: #E8F0FE;\n",
              "      border: none;\n",
              "      border-radius: 50%;\n",
              "      cursor: pointer;\n",
              "      display: none;\n",
              "      fill: #1967D2;\n",
              "      height: 32px;\n",
              "      padding: 0 0 0 0;\n",
              "      width: 32px;\n",
              "    }\n",
              "\n",
              "    .colab-df-convert:hover {\n",
              "      background-color: #E2EBFA;\n",
              "      box-shadow: 0px 1px 2px rgba(60, 64, 67, 0.3), 0px 1px 3px 1px rgba(60, 64, 67, 0.15);\n",
              "      fill: #174EA6;\n",
              "    }\n",
              "\n",
              "    [theme=dark] .colab-df-convert {\n",
              "      background-color: #3B4455;\n",
              "      fill: #D2E3FC;\n",
              "    }\n",
              "\n",
              "    [theme=dark] .colab-df-convert:hover {\n",
              "      background-color: #434B5C;\n",
              "      box-shadow: 0px 1px 3px 1px rgba(0, 0, 0, 0.15);\n",
              "      filter: drop-shadow(0px 1px 2px rgba(0, 0, 0, 0.3));\n",
              "      fill: #FFFFFF;\n",
              "    }\n",
              "  </style>\n",
              "\n",
              "      <script>\n",
              "        const buttonEl =\n",
              "          document.querySelector('#df-05d4fd46-9582-4c01-b985-9baeef570d2d button.colab-df-convert');\n",
              "        buttonEl.style.display =\n",
              "          google.colab.kernel.accessAllowed ? 'block' : 'none';\n",
              "\n",
              "        async function convertToInteractive(key) {\n",
              "          const element = document.querySelector('#df-05d4fd46-9582-4c01-b985-9baeef570d2d');\n",
              "          const dataTable =\n",
              "            await google.colab.kernel.invokeFunction('convertToInteractive',\n",
              "                                                     [key], {});\n",
              "          if (!dataTable) return;\n",
              "\n",
              "          const docLinkHtml = 'Like what you see? Visit the ' +\n",
              "            '<a target=\"_blank\" href=https://colab.research.google.com/notebooks/data_table.ipynb>data table notebook</a>'\n",
              "            + ' to learn more about interactive tables.';\n",
              "          element.innerHTML = '';\n",
              "          dataTable['output_type'] = 'display_data';\n",
              "          await google.colab.output.renderOutput(dataTable, element);\n",
              "          const docLink = document.createElement('div');\n",
              "          docLink.innerHTML = docLinkHtml;\n",
              "          element.appendChild(docLink);\n",
              "        }\n",
              "      </script>\n",
              "    </div>\n",
              "  </div>\n",
              "  "
            ]
          },
          "metadata": {},
          "execution_count": 2
        }
      ],
      "source": [
        "df = pd.read_csv('http://bit.ly/w-data')\n",
        "df.head()"
      ]
    },
    {
      "cell_type": "markdown",
      "id": "44e12fd9-7fa5-4cc9-a111-c65786e01773",
      "metadata": {
        "id": "44e12fd9-7fa5-4cc9-a111-c65786e01773"
      },
      "source": [
        "## Exploring the dataset"
      ]
    },
    {
      "cell_type": "markdown",
      "id": "ffb50141-2567-4688-995d-9d1a317ed211",
      "metadata": {
        "id": "ffb50141-2567-4688-995d-9d1a317ed211"
      },
      "source": [
        "- checking if any null values are present in the dataset"
      ]
    },
    {
      "cell_type": "code",
      "execution_count": 3,
      "id": "4e40d9e6-3074-4ae9-b94e-baabb489dbc8",
      "metadata": {
        "colab": {
          "base_uri": "https://localhost:8080/"
        },
        "id": "4e40d9e6-3074-4ae9-b94e-baabb489dbc8",
        "outputId": "e969b71e-f6fc-48c9-a519-81c5cee6fbee"
      },
      "outputs": [
        {
          "output_type": "stream",
          "name": "stdout",
          "text": [
            "<class 'pandas.core.frame.DataFrame'>\n",
            "RangeIndex: 25 entries, 0 to 24\n",
            "Data columns (total 2 columns):\n",
            " #   Column  Non-Null Count  Dtype  \n",
            "---  ------  --------------  -----  \n",
            " 0   Hours   25 non-null     float64\n",
            " 1   Scores  25 non-null     int64  \n",
            "dtypes: float64(1), int64(1)\n",
            "memory usage: 528.0 bytes\n"
          ]
        }
      ],
      "source": [
        "df.info()"
      ]
    },
    {
      "cell_type": "code",
      "execution_count": 4,
      "id": "5b0d890f-eee4-47f3-a4f6-3abf4ff5da4e",
      "metadata": {
        "colab": {
          "base_uri": "https://localhost:8080/"
        },
        "id": "5b0d890f-eee4-47f3-a4f6-3abf4ff5da4e",
        "outputId": "cdb4d209-2d0b-4b14-8cd6-e9c73f494768"
      },
      "outputs": [
        {
          "output_type": "execute_result",
          "data": {
            "text/plain": [
              "Hours     0\n",
              "Scores    0\n",
              "dtype: int64"
            ]
          },
          "metadata": {},
          "execution_count": 4
        }
      ],
      "source": [
        "df.isna().sum()"
      ]
    },
    {
      "cell_type": "markdown",
      "id": "22dda879-3cf6-4b2f-b46e-48e36b3583dc",
      "metadata": {
        "id": "22dda879-3cf6-4b2f-b46e-48e36b3583dc"
      },
      "source": [
        "- Checking the range of values and other data statistics"
      ]
    },
    {
      "cell_type": "code",
      "execution_count": 5,
      "id": "fef119a9-5dac-4a82-84f5-0bad156d06bd",
      "metadata": {
        "colab": {
          "base_uri": "https://localhost:8080/",
          "height": 300
        },
        "id": "fef119a9-5dac-4a82-84f5-0bad156d06bd",
        "outputId": "87e7ba4b-c641-456f-8c2f-259ba2ec5fc2"
      },
      "outputs": [
        {
          "output_type": "execute_result",
          "data": {
            "text/plain": [
              "           Hours     Scores\n",
              "count  25.000000  25.000000\n",
              "mean    5.012000  51.480000\n",
              "std     2.525094  25.286887\n",
              "min     1.100000  17.000000\n",
              "25%     2.700000  30.000000\n",
              "50%     4.800000  47.000000\n",
              "75%     7.400000  75.000000\n",
              "max     9.200000  95.000000"
            ],
            "text/html": [
              "\n",
              "  <div id=\"df-40601443-d307-42af-908e-473ab1c88723\">\n",
              "    <div class=\"colab-df-container\">\n",
              "      <div>\n",
              "<style scoped>\n",
              "    .dataframe tbody tr th:only-of-type {\n",
              "        vertical-align: middle;\n",
              "    }\n",
              "\n",
              "    .dataframe tbody tr th {\n",
              "        vertical-align: top;\n",
              "    }\n",
              "\n",
              "    .dataframe thead th {\n",
              "        text-align: right;\n",
              "    }\n",
              "</style>\n",
              "<table border=\"1\" class=\"dataframe\">\n",
              "  <thead>\n",
              "    <tr style=\"text-align: right;\">\n",
              "      <th></th>\n",
              "      <th>Hours</th>\n",
              "      <th>Scores</th>\n",
              "    </tr>\n",
              "  </thead>\n",
              "  <tbody>\n",
              "    <tr>\n",
              "      <th>count</th>\n",
              "      <td>25.000000</td>\n",
              "      <td>25.000000</td>\n",
              "    </tr>\n",
              "    <tr>\n",
              "      <th>mean</th>\n",
              "      <td>5.012000</td>\n",
              "      <td>51.480000</td>\n",
              "    </tr>\n",
              "    <tr>\n",
              "      <th>std</th>\n",
              "      <td>2.525094</td>\n",
              "      <td>25.286887</td>\n",
              "    </tr>\n",
              "    <tr>\n",
              "      <th>min</th>\n",
              "      <td>1.100000</td>\n",
              "      <td>17.000000</td>\n",
              "    </tr>\n",
              "    <tr>\n",
              "      <th>25%</th>\n",
              "      <td>2.700000</td>\n",
              "      <td>30.000000</td>\n",
              "    </tr>\n",
              "    <tr>\n",
              "      <th>50%</th>\n",
              "      <td>4.800000</td>\n",
              "      <td>47.000000</td>\n",
              "    </tr>\n",
              "    <tr>\n",
              "      <th>75%</th>\n",
              "      <td>7.400000</td>\n",
              "      <td>75.000000</td>\n",
              "    </tr>\n",
              "    <tr>\n",
              "      <th>max</th>\n",
              "      <td>9.200000</td>\n",
              "      <td>95.000000</td>\n",
              "    </tr>\n",
              "  </tbody>\n",
              "</table>\n",
              "</div>\n",
              "      <button class=\"colab-df-convert\" onclick=\"convertToInteractive('df-40601443-d307-42af-908e-473ab1c88723')\"\n",
              "              title=\"Convert this dataframe to an interactive table.\"\n",
              "              style=\"display:none;\">\n",
              "        \n",
              "  <svg xmlns=\"http://www.w3.org/2000/svg\" height=\"24px\"viewBox=\"0 0 24 24\"\n",
              "       width=\"24px\">\n",
              "    <path d=\"M0 0h24v24H0V0z\" fill=\"none\"/>\n",
              "    <path d=\"M18.56 5.44l.94 2.06.94-2.06 2.06-.94-2.06-.94-.94-2.06-.94 2.06-2.06.94zm-11 1L8.5 8.5l.94-2.06 2.06-.94-2.06-.94L8.5 2.5l-.94 2.06-2.06.94zm10 10l.94 2.06.94-2.06 2.06-.94-2.06-.94-.94-2.06-.94 2.06-2.06.94z\"/><path d=\"M17.41 7.96l-1.37-1.37c-.4-.4-.92-.59-1.43-.59-.52 0-1.04.2-1.43.59L10.3 9.45l-7.72 7.72c-.78.78-.78 2.05 0 2.83L4 21.41c.39.39.9.59 1.41.59.51 0 1.02-.2 1.41-.59l7.78-7.78 2.81-2.81c.8-.78.8-2.07 0-2.86zM5.41 20L4 18.59l7.72-7.72 1.47 1.35L5.41 20z\"/>\n",
              "  </svg>\n",
              "      </button>\n",
              "      \n",
              "  <style>\n",
              "    .colab-df-container {\n",
              "      display:flex;\n",
              "      flex-wrap:wrap;\n",
              "      gap: 12px;\n",
              "    }\n",
              "\n",
              "    .colab-df-convert {\n",
              "      background-color: #E8F0FE;\n",
              "      border: none;\n",
              "      border-radius: 50%;\n",
              "      cursor: pointer;\n",
              "      display: none;\n",
              "      fill: #1967D2;\n",
              "      height: 32px;\n",
              "      padding: 0 0 0 0;\n",
              "      width: 32px;\n",
              "    }\n",
              "\n",
              "    .colab-df-convert:hover {\n",
              "      background-color: #E2EBFA;\n",
              "      box-shadow: 0px 1px 2px rgba(60, 64, 67, 0.3), 0px 1px 3px 1px rgba(60, 64, 67, 0.15);\n",
              "      fill: #174EA6;\n",
              "    }\n",
              "\n",
              "    [theme=dark] .colab-df-convert {\n",
              "      background-color: #3B4455;\n",
              "      fill: #D2E3FC;\n",
              "    }\n",
              "\n",
              "    [theme=dark] .colab-df-convert:hover {\n",
              "      background-color: #434B5C;\n",
              "      box-shadow: 0px 1px 3px 1px rgba(0, 0, 0, 0.15);\n",
              "      filter: drop-shadow(0px 1px 2px rgba(0, 0, 0, 0.3));\n",
              "      fill: #FFFFFF;\n",
              "    }\n",
              "  </style>\n",
              "\n",
              "      <script>\n",
              "        const buttonEl =\n",
              "          document.querySelector('#df-40601443-d307-42af-908e-473ab1c88723 button.colab-df-convert');\n",
              "        buttonEl.style.display =\n",
              "          google.colab.kernel.accessAllowed ? 'block' : 'none';\n",
              "\n",
              "        async function convertToInteractive(key) {\n",
              "          const element = document.querySelector('#df-40601443-d307-42af-908e-473ab1c88723');\n",
              "          const dataTable =\n",
              "            await google.colab.kernel.invokeFunction('convertToInteractive',\n",
              "                                                     [key], {});\n",
              "          if (!dataTable) return;\n",
              "\n",
              "          const docLinkHtml = 'Like what you see? Visit the ' +\n",
              "            '<a target=\"_blank\" href=https://colab.research.google.com/notebooks/data_table.ipynb>data table notebook</a>'\n",
              "            + ' to learn more about interactive tables.';\n",
              "          element.innerHTML = '';\n",
              "          dataTable['output_type'] = 'display_data';\n",
              "          await google.colab.output.renderOutput(dataTable, element);\n",
              "          const docLink = document.createElement('div');\n",
              "          docLink.innerHTML = docLinkHtml;\n",
              "          element.appendChild(docLink);\n",
              "        }\n",
              "      </script>\n",
              "    </div>\n",
              "  </div>\n",
              "  "
            ]
          },
          "metadata": {},
          "execution_count": 5
        }
      ],
      "source": [
        "df.describe()"
      ]
    },
    {
      "cell_type": "markdown",
      "id": "f466d984-f6d2-494d-8a7e-516878e1b9b0",
      "metadata": {
        "id": "f466d984-f6d2-494d-8a7e-516878e1b9b0"
      },
      "source": [
        "## Splitting the dataset into feature and target variable"
      ]
    },
    {
      "cell_type": "code",
      "execution_count": 6,
      "id": "59cef12a-ee2a-4626-9c8a-8c666ab2f6cf",
      "metadata": {
        "colab": {
          "base_uri": "https://localhost:8080/"
        },
        "id": "59cef12a-ee2a-4626-9c8a-8c666ab2f6cf",
        "outputId": "4c40d749-279f-416f-f965-41ed6f8d2dde"
      },
      "outputs": [
        {
          "output_type": "execute_result",
          "data": {
            "text/plain": [
              "(25, 25)"
            ]
          },
          "metadata": {},
          "execution_count": 6
        }
      ],
      "source": [
        "X = df['Hours']\n",
        "y = df['Scores']\n",
        "\n",
        "len(X), len(y)"
      ]
    },
    {
      "cell_type": "markdown",
      "id": "4b631467-65b3-4498-89e8-f7dc1cc95cf5",
      "metadata": {
        "id": "4b631467-65b3-4498-89e8-f7dc1cc95cf5"
      },
      "source": [
        "## Creating train and test splits\n",
        "\n",
        "- Split the data into training and test sets using the `train_test_split` function.\n",
        "- By splitting the data into training and test sets, we can use the training set to fit the model, and then use the test set to evaluate the model's performance. The test set is a subset of the data that the model has not seen during training, so it provides an unbiased estimate of how well the model is likely to perform on new, unseen data."
      ]
    },
    {
      "cell_type": "code",
      "execution_count": 7,
      "id": "b6d2790c-65eb-44a7-ac39-8f9959199ad1",
      "metadata": {
        "colab": {
          "base_uri": "https://localhost:8080/"
        },
        "id": "b6d2790c-65eb-44a7-ac39-8f9959199ad1",
        "outputId": "2422d153-7edc-421a-d0db-231239f5a35a"
      },
      "outputs": [
        {
          "output_type": "execute_result",
          "data": {
            "text/plain": [
              "((20, 20), (5, 5))"
            ]
          },
          "metadata": {},
          "execution_count": 7
        }
      ],
      "source": [
        "X_train, X_test, y_train, y_test = train_test_split(X,y,\n",
        "                                                    test_size=0.2, # 20% dataset for testing\n",
        "                                                    random_state=42)\n",
        "(len(X_train), len(y_train)), (len(X_test), len(y_test))"
      ]
    },
    {
      "cell_type": "markdown",
      "id": "c0b1c0df-210f-44d8-9f38-78006ae38dad",
      "metadata": {
        "id": "c0b1c0df-210f-44d8-9f38-78006ae38dad"
      },
      "source": [
        "## Linear Regression\n",
        "\n",
        "- Linear regression is a statistical method for modeling the relationship between a dependent variable (also known as the response variable or target) and one or more independent variables (also known as predictor variables or features). The goal of linear regression is to find the best linear relationship between the independent and dependent variables by minimizing the differences between the predicted and actual values.\n",
        "\n",
        "- The basic idea behind linear regression is to fit a line through a set of data points. The line is represented by an equation of the form: \n",
        "\n",
        "    `y = b0 + b1*x`\n",
        "    \n",
        "    - Where y is the dependent variable, x is the independent variable, b0 is the y-intercept, and b1 is the slope of the line.\n",
        "\n",
        "\n",
        "- it is important to note that linear regression assumes a linear relationship between the independent and dependent variables,"
      ]
    },
    {
      "cell_type": "code",
      "execution_count": 8,
      "id": "6fa854fb-7f05-4392-baf4-92ff02a7c5df",
      "metadata": {
        "colab": {
          "base_uri": "https://localhost:8080/"
        },
        "id": "6fa854fb-7f05-4392-baf4-92ff02a7c5df",
        "outputId": "61eb098a-7efa-484e-f598-e74804e88e2d"
      },
      "outputs": [
        {
          "output_type": "execute_result",
          "data": {
            "text/plain": [
              "LinearRegression()"
            ]
          },
          "metadata": {},
          "execution_count": 8
        }
      ],
      "source": [
        "model = LinearRegression()\n",
        "model.fit(X_train.values.reshape(-1, 1), y_train)"
      ]
    },
    {
      "cell_type": "code",
      "execution_count": 9,
      "id": "8db3fd6c-4035-49b6-94b6-2897e386f174",
      "metadata": {
        "colab": {
          "base_uri": "https://localhost:8080/"
        },
        "id": "8db3fd6c-4035-49b6-94b6-2897e386f174",
        "outputId": "48f910be-5e9c-4766-a4a4-9bead2e20de4"
      },
      "outputs": [
        {
          "output_type": "execute_result",
          "data": {
            "text/plain": [
              "array([9.68207815])"
            ]
          },
          "metadata": {},
          "execution_count": 9
        }
      ],
      "source": [
        "model.coef_"
      ]
    },
    {
      "cell_type": "code",
      "execution_count": 10,
      "id": "830df824-83bb-4afe-bf9a-bd0b4aeed0d1",
      "metadata": {
        "colab": {
          "base_uri": "https://localhost:8080/"
        },
        "id": "830df824-83bb-4afe-bf9a-bd0b4aeed0d1",
        "outputId": "2b3f29af-0b75-4828-97eb-dec2b34e64b4"
      },
      "outputs": [
        {
          "output_type": "execute_result",
          "data": {
            "text/plain": [
              "2.826892353899737"
            ]
          },
          "metadata": {},
          "execution_count": 10
        }
      ],
      "source": [
        "model.intercept_"
      ]
    },
    {
      "cell_type": "markdown",
      "id": "d9272ec7-8244-4639-a3fa-1dee56dc2a05",
      "metadata": {
        "id": "d9272ec7-8244-4639-a3fa-1dee56dc2a05"
      },
      "source": [
        "## Evaluating our model\n",
        "\n",
        "- Mean Squared Error (MSE) and Mean Absolute Error (MAE) are two commonly used metrics for evaluating the performance of a regression model.\n",
        "\n",
        "- R-squared (R^2) is a statistical measure of how close the data is to the fitted regression line. It ranges from 0 to 1, where a value of 1 indicates that all the data points fall on the fitted regression line, and a value of 0 indicates that the model does not explain any of the variability of the response data around its mean."
      ]
    },
    {
      "cell_type": "code",
      "execution_count": 11,
      "id": "c42219b6-6300-4c03-ab31-1c0ba2a0daa9",
      "metadata": {
        "colab": {
          "base_uri": "https://localhost:8080/"
        },
        "id": "c42219b6-6300-4c03-ab31-1c0ba2a0daa9",
        "outputId": "3592fa15-c39b-4e94-b8fa-fbff3f13a6e3"
      },
      "outputs": [
        {
          "output_type": "stream",
          "name": "stdout",
          "text": [
            "[83.18814104 27.03208774 27.03208774 69.63323162 59.95115347]\n"
          ]
        }
      ],
      "source": [
        "# Make predictions using our test dataset\n",
        "\n",
        "y_pred = model.predict(X_test.values.reshape(-1,1))\n",
        "\n",
        "print(y_pred[:5])"
      ]
    },
    {
      "cell_type": "markdown",
      "id": "b3ee86e5-4332-4de6-864e-896bdcff2c63",
      "metadata": {
        "id": "b3ee86e5-4332-4de6-864e-896bdcff2c63"
      },
      "source": [
        "### Mean Absolute Error\n",
        "\n",
        "- Mean Absolute Error (MAE) is the average of the absolute differences between the predicted and actual values. It is less sensitive to outliers than the MSE, but still provides a measure of how well the model is fitting the data."
      ]
    },
    {
      "cell_type": "code",
      "execution_count": 12,
      "id": "ef7ba58a-ab95-48be-a617-5c34cc19f96d",
      "metadata": {
        "colab": {
          "base_uri": "https://localhost:8080/"
        },
        "id": "ef7ba58a-ab95-48be-a617-5c34cc19f96d",
        "outputId": "1208a65c-9d54-4830-f1aa-bd26fd70b9cf"
      },
      "outputs": [
        {
          "output_type": "stream",
          "name": "stdout",
          "text": [
            "Mean Absolute Error: 3.9207511902099244\n"
          ]
        }
      ],
      "source": [
        "print(f'Mean Absolute Error: {mean_absolute_error(y_test, y_pred)}')"
      ]
    },
    {
      "cell_type": "markdown",
      "id": "1244a004-39d3-4163-b9b5-f72b51331870",
      "metadata": {
        "id": "1244a004-39d3-4163-b9b5-f72b51331870"
      },
      "source": [
        "## R2 score\n",
        "\n",
        "- R-squared (R^2) is a statistical measure of how close the data is to the fitted regression line. It ranges from 0 to 1, where a value of 1 indicates that all the data points fall on the fitted regression line, and a value of 0 indicates that the model does not explain any of the variability of the response data around its mean.\n",
        "\n",
        "- A high R-squared value indicates that the model is a good fit for the data, while a low R-squared value indicates that the model is not a good fit for the data."
      ]
    },
    {
      "cell_type": "code",
      "execution_count": 13,
      "id": "c401dc76-67fe-45f9-b02b-b2b6c65fc694",
      "metadata": {
        "colab": {
          "base_uri": "https://localhost:8080/"
        },
        "id": "c401dc76-67fe-45f9-b02b-b2b6c65fc694",
        "outputId": "1b4ae1e8-3a3c-42a2-f524-5793b5ee5de2"
      },
      "outputs": [
        {
          "output_type": "stream",
          "name": "stdout",
          "text": [
            "R2 score: 0.9678055545167994\n"
          ]
        }
      ],
      "source": [
        "print(f'R2 score: {r2_score(y_test, y_pred)}')"
      ]
    },
    {
      "cell_type": "markdown",
      "id": "dd8f4447-b805-4c7a-942e-7be571c8f03f",
      "metadata": {
        "id": "dd8f4447-b805-4c7a-942e-7be571c8f03f"
      },
      "source": [
        "### Mean Squared Error\n",
        "\n",
        "- Mean Squared Error (MSE) is the average of the squared differences between the predicted and actual values. It is a commonly used loss function for regression problems and is a measure of how well the model fits the data. The MSE is sensitive to outliers, so it is affected when there are extreme differences between the predicted and actual values."
      ]
    },
    {
      "cell_type": "code",
      "execution_count": 14,
      "id": "f4ccbf77-72d7-4021-807d-7af058950c1d",
      "metadata": {
        "colab": {
          "base_uri": "https://localhost:8080/"
        },
        "id": "f4ccbf77-72d7-4021-807d-7af058950c1d",
        "outputId": "5d44decd-ea3d-4d8e-a945-53cd468024fe"
      },
      "outputs": [
        {
          "output_type": "stream",
          "name": "stdout",
          "text": [
            "Mean Squared Error: 18.943211722315272\n"
          ]
        }
      ],
      "source": [
        "print(f'Mean Squared Error: {mean_squared_error(y_test, y_pred)}')"
      ]
    },
    {
      "cell_type": "markdown",
      "source": [
        "## Linear Regression plot"
      ],
      "metadata": {
        "id": "gnEWHq7nk5hq"
      },
      "id": "gnEWHq7nk5hq"
    },
    {
      "cell_type": "code",
      "source": [
        "y_pred_all = model.predict(X.values.reshape(-1,1))\n",
        "\n",
        "plt.figure(figsize=(10,7))\n",
        "plt.scatter(X, y, color='green')\n",
        "plt.plot(X, y_pred_all, color='red')\n",
        "plt.title('Linear Regression plot')\n",
        "plt.xlabel('Hours')\n",
        "plt.ylabel('Scores')\n",
        "plt.show()"
      ],
      "metadata": {
        "colab": {
          "base_uri": "https://localhost:8080/",
          "height": 458
        },
        "id": "Zt2s1jkck8by",
        "outputId": "5f706d8e-1335-495b-97e8-9027d0b459f2"
      },
      "id": "Zt2s1jkck8by",
      "execution_count": 15,
      "outputs": [
        {
          "output_type": "display_data",
          "data": {
            "text/plain": [
              "<Figure size 720x504 with 1 Axes>"
            ],
            "image/png": "[encoded data removed]"
          },
          "metadata": {
            "needs_background": "light"
          }
        }
      ]
    },
    {
      "cell_type": "markdown",
      "source": [
        "## What will be predicted score if a student studies for 9.25 hrs/ day?"
      ],
      "metadata": {
        "id": "gGXQzxm6lYza"
      },
      "id": "gGXQzxm6lYza"
    },
    {
      "cell_type": "code",
      "source": [
        "\n",
        "predicted_score = model.predict([[9.25]])\n",
        "print(f'The predicted score if a student if a student studies for 9.25 hrs/ day is: {predicted_score[0].round(2)}')"
      ],
      "metadata": {
        "colab": {
          "base_uri": "https://localhost:8080/"
        },
        "id": "XxnVsXRhv5-Q",
        "outputId": "575d2c1a-c61d-4430-a71c-e6b978ebce31"
      },
      "id": "XxnVsXRhv5-Q",
      "execution_count": 16,
      "outputs": [
        {
          "output_type": "stream",
          "name": "stdout",
          "text": [
            "The predicted score if a student if a student studies for 9.25 hrs/ day is: 92.39\n"
          ]
        }
      ]
    }
  ],
  "metadata": {
    "kernelspec": {
      "display_name": "Python 3 (ipykernel)",
      "language": "python",
      "name": "python3"
    },
    "language_info": {
      "codemirror_mode": {
        "name": "ipython",
        "version": 3
      },
      "file_extension": ".py",
      "mimetype": "text/x-python",
      "name": "python",
      "nbconvert_exporter": "python",
      "pygments_lexer": "ipython3",
      "version": "3.9.12"
    },
    "colab": {
      "provenance": [],
      "include_colab_link": true
    }
  },
  "nbformat": 4,
  "nbformat_minor": 5
}